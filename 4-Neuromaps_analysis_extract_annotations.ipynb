{
 "cells": [
  {
   "cell_type": "code",
   "execution_count": 1,
   "metadata": {},
   "outputs": [
    {
     "data": {
      "text/plain": [
       "{'white': Surface(L=PosixPath('/Users/jasondsc/neuromaps-data/atlases/fsaverage/tpl-fsaverage_den-164k_hemi-L_white.surf.gii'), R=PosixPath('/Users/jasondsc/neuromaps-data/atlases/fsaverage/tpl-fsaverage_den-164k_hemi-R_white.surf.gii')),\n",
       " 'pial': Surface(L=PosixPath('/Users/jasondsc/neuromaps-data/atlases/fsaverage/tpl-fsaverage_den-164k_hemi-L_pial.surf.gii'), R=PosixPath('/Users/jasondsc/neuromaps-data/atlases/fsaverage/tpl-fsaverage_den-164k_hemi-R_pial.surf.gii')),\n",
       " 'inflated': Surface(L=PosixPath('/Users/jasondsc/neuromaps-data/atlases/fsaverage/tpl-fsaverage_den-164k_hemi-L_inflated.surf.gii'), R=PosixPath('/Users/jasondsc/neuromaps-data/atlases/fsaverage/tpl-fsaverage_den-164k_hemi-R_inflated.surf.gii')),\n",
       " 'sphere': Surface(L=PosixPath('/Users/jasondsc/neuromaps-data/atlases/fsaverage/tpl-fsaverage_den-164k_hemi-L_sphere.surf.gii'), R=PosixPath('/Users/jasondsc/neuromaps-data/atlases/fsaverage/tpl-fsaverage_den-164k_hemi-R_sphere.surf.gii')),\n",
       " 'medial': Surface(L=PosixPath('/Users/jasondsc/neuromaps-data/atlases/fsaverage/tpl-fsaverage_den-164k_hemi-L_desc-nomedialwall_dparc.label.gii'), R=PosixPath('/Users/jasondsc/neuromaps-data/atlases/fsaverage/tpl-fsaverage_den-164k_hemi-R_desc-nomedialwall_dparc.label.gii')),\n",
       " 'sulc': Surface(L=PosixPath('/Users/jasondsc/neuromaps-data/atlases/fsaverage/tpl-fsaverage_den-164k_hemi-L_desc-sulc_midthickness.shape.gii'), R=PosixPath('/Users/jasondsc/neuromaps-data/atlases/fsaverage/tpl-fsaverage_den-164k_hemi-R_desc-sulc_midthickness.shape.gii')),\n",
       " 'vaavg': Surface(L=PosixPath('/Users/jasondsc/neuromaps-data/atlases/fsaverage/tpl-fsaverage_den-164k_hemi-L_desc-vaavg_midthickness.shape.gii'), R=PosixPath('/Users/jasondsc/neuromaps-data/atlases/fsaverage/tpl-fsaverage_den-164k_hemi-R_desc-vaavg_midthickness.shape.gii'))}"
      ]
     },
     "execution_count": 1,
     "metadata": {},
     "output_type": "execute_result"
    }
   ],
   "source": [
    "#matplotlib inline\n",
    "from neuromaps.datasets import fetch_fsaverage\n",
    "fetch_fsaverage(density='164k', url=None, data_dir=None, verbose=1)"
   ]
  },
  {
   "cell_type": "code",
   "execution_count": 2,
   "metadata": {},
   "outputs": [
    {
     "name": "stdout",
     "output_type": "stream",
     "text": [
      "('abagen', 'genepc1', 'fsaverage', '10k')\n",
      "('aghourian2017', 'feobv', 'MNI152', '1mm')\n",
      "('alarkurtti2015', 'raclopride', 'MNI152', '3mm')\n",
      "('bedard2019', 'feobv', 'MNI152', '1mm')\n",
      "('beliveau2017', 'az10419369', 'MNI152', '1mm')\n",
      "('beliveau2017', 'cimbi36', 'MNI152', '1mm')\n",
      "('beliveau2017', 'cumi101', 'MNI152', '1mm')\n",
      "('beliveau2017', 'dasb', 'MNI152', '1mm')\n",
      "('beliveau2017', 'sb207145', 'MNI152', '1mm')\n",
      "('ding2010', 'mrb', 'MNI152', '1mm')\n",
      "('dubois2015', 'abp688', 'MNI152', '1mm')\n",
      "('dukart2018', 'flumazenil', 'MNI152', '3mm')\n",
      "('dukart2018', 'fpcit', 'MNI152', '3mm')\n",
      "('fazio2016', 'madam', 'MNI152', '3mm')\n",
      "('finnema2016', 'ucbj', 'MNI152', '1mm')\n",
      "('gallezot2010', 'p943', 'MNI152', '1mm')\n",
      "('gallezot2017', 'gsk189254', 'MNI152', '1mm')\n",
      "('hcps1200', 'megalpha', 'fsLR', '4k')\n",
      "('hcps1200', 'megbeta', 'fsLR', '4k')\n",
      "('hcps1200', 'megdelta', 'fsLR', '4k')\n",
      "('hcps1200', 'meggamma1', 'fsLR', '4k')\n",
      "('hcps1200', 'meggamma2', 'fsLR', '4k')\n",
      "('hcps1200', 'megtheta', 'fsLR', '4k')\n",
      "('hcps1200', 'megtimescale', 'fsLR', '4k')\n",
      "('hcps1200', 'myelinmap', 'fsLR', '32k')\n",
      "('hcps1200', 'thickness', 'fsLR', '32k')\n",
      "('hesse2017', 'methylreboxetine', 'MNI152', '3mm')\n",
      "('hill2010', 'devexp', 'fsLR', '164k')\n",
      "('hill2010', 'evoexp', 'fsLR', '164k')\n",
      "('hillmer2016', 'flubatine', 'MNI152', '1mm')\n",
      "('jaworska2020', 'fallypride', 'MNI152', '1mm')\n",
      "('kaller2017', 'sch23390', 'MNI152', '3mm')\n",
      "('kantonen2020', 'carfentanil', 'MNI152', '3mm')\n",
      "('laurikainen2018', 'fmpepd2', 'MNI152', '1mm')\n",
      "('margulies2016', 'fcgradient01', 'fsLR', '32k')\n",
      "('margulies2016', 'fcgradient02', 'fsLR', '32k')\n",
      "('margulies2016', 'fcgradient03', 'fsLR', '32k')\n",
      "('margulies2016', 'fcgradient04', 'fsLR', '32k')\n",
      "('margulies2016', 'fcgradient05', 'fsLR', '32k')\n",
      "('margulies2016', 'fcgradient06', 'fsLR', '32k')\n",
      "('margulies2016', 'fcgradient07', 'fsLR', '32k')\n",
      "('margulies2016', 'fcgradient08', 'fsLR', '32k')\n",
      "('margulies2016', 'fcgradient09', 'fsLR', '32k')\n",
      "('margulies2016', 'fcgradient10', 'fsLR', '32k')\n",
      "('mueller2013', 'intersubjvar', 'fsLR', '164k')\n",
      "('naganawa2020', 'lsn3172176', 'MNI152', '1mm')\n",
      "('neurosynth', 'cogpc1', 'MNI152', '2mm')\n",
      "('norgaard2020', 'flumazenil', 'MNI152', '1mm')\n",
      "('normandin2015', 'omar', 'MNI152', '1mm')\n",
      "('radnakrishnan2018', 'gsk215083', 'MNI152', '1mm')\n",
      "('raichle', 'cbf', 'fsLR', '164k')\n",
      "('raichle', 'cbv', 'fsLR', '164k')\n",
      "('raichle', 'cmr02', 'fsLR', '164k')\n",
      "('raichle', 'cmruglu', 'fsLR', '164k')\n",
      "('reardon2018', 'scalinghcp', 'civet', '41k')\n",
      "('reardon2018', 'scalingnih', 'civet', '41k')\n",
      "('reardon2018', 'scalingpnc', 'civet', '41k')\n",
      "('rosaneto', 'abp688', 'MNI152', '1mm')\n",
      "('sandiego2015', 'flb457', 'MNI152', '1mm')\n",
      "('sasaki2012', 'fepe2i', 'MNI152', '1mm')\n",
      "('satterthwaite2014', 'meancbf', 'MNI152', '1mm')\n",
      "('savli2012', 'altanserin', 'MNI152', '3mm')\n",
      "('savli2012', 'dasb', 'MNI152', '3mm')\n",
      "('savli2012', 'p943', 'MNI152', '3mm')\n",
      "('savli2012', 'way100635', 'MNI152', '3mm')\n",
      "('smart2019', 'abp688', 'MNI152', '1mm')\n",
      "('smith2017', 'flb457', 'MNI152', '1mm')\n",
      "('sydnor2021', 'SAaxis', 'fsLR', '32k')\n",
      "('tuominen', 'feobv', 'MNI152', '2mm')\n",
      "('turtonen2020', 'carfentanil', 'MNI152', '1mm')\n",
      "('xu2020', 'FChomology', 'fsLR', '32k')\n",
      "('xu2020', 'evoexp', 'fsLR', '32k')\n"
     ]
    }
   ],
   "source": [
    "from neuromaps.datasets import available_annotations\n",
    "for annotation in available_annotations():\n",
    "     print(annotation)"
   ]
  },
  {
   "cell_type": "code",
   "execution_count": 4,
   "metadata": {},
   "outputs": [],
   "source": [
    "\n",
    "from neuromaps.datasets import fetch_annotation\n",
    "from netneurotools import datasets as nntdata\n",
    "from neuromaps.parcellate import Parcellater\n",
    "import pandas as pd\n",
    "import numpy as np\n",
    "from neuromaps import transforms\n",
    "import neuromaps\n",
    "\n",
    "\n",
    "myelin = fetch_annotation(source='raichle', desc='cmruglu', space='fsLR', den='164k',return_single=True)\n",
    "myelin_fsavg = transforms.fslr_to_fsaverage(myelin, '10k')\n",
    "lausanne = nntdata.fetch_cammoun2012(version='fsaverage')\n",
    "lausanne1= neuromaps.images.annot_to_gifti(lausanne['scale033'])\n",
    "parcel = Parcellater(lausanne1, 'fsaverage')\n",
    "annotation_parc = parcel.fit_transform(myelin_fsavg, 'fsaverage')\n",
    "\n",
    "temp = pd.DataFrame(data= np.transpose(annotation_parc), columns=['receptor'])\n",
    "temp.to_csv('/Users/jasondsc/Desktop/Alex_fingerprinting/neuromaps/map_cmruglu.csv')\n",
    "\n",
    "myelin = fetch_annotation(source='raichle', desc='cmr02', space='fsLR', den='164k',return_single=True)\n",
    "myelin_fsavg = transforms.fslr_to_fsaverage(myelin, '10k')\n",
    "lausanne = nntdata.fetch_cammoun2012(version='fsaverage')\n",
    "lausanne1= neuromaps.images.annot_to_gifti(lausanne['scale033'])\n",
    "parcel = Parcellater(lausanne1, 'fsaverage')\n",
    "annotation_parc = parcel.fit_transform(myelin_fsavg, 'fsaverage')\n",
    "\n",
    "temp = pd.DataFrame(data= np.transpose(annotation_parc), columns=['receptor'])\n",
    "temp.to_csv('/Users/jasondsc/Desktop/Alex_fingerprinting/neuromaps/map_cmr02.csv')\n",
    "\n",
    "\n",
    "myelin = fetch_annotation(source='mueller2013', desc='intersubjvar', space='fsLR', den='164k',return_single=True)\n",
    "myelin_fsavg = transforms.fslr_to_fsaverage(myelin, '10k')\n",
    "lausanne = nntdata.fetch_cammoun2012(version='fsaverage')\n",
    "lausanne1= neuromaps.images.annot_to_gifti(lausanne['scale033'])\n",
    "parcel = Parcellater(lausanne1, 'fsaverage')\n",
    "annotation_parc = parcel.fit_transform(myelin_fsavg, 'fsaverage')\n",
    "\n",
    "temp = pd.DataFrame(data= np.transpose(annotation_parc), columns=['receptor'])\n",
    "temp.to_csv('/Users/jasondsc/Desktop/Alex_fingerprinting/neuromaps/map_intersubjvar.csv')"
   ]
  },
  {
   "cell_type": "code",
   "execution_count": 24,
   "metadata": {},
   "outputs": [
    {
     "name": "stdout",
     "output_type": "stream",
     "text": [
      "Downloading data from https://files.osf.io/v1/resources/4mw3a/providers/osfstorage/61956b36bbe37801c559fd24 ...\n"
     ]
    },
    {
     "name": "stderr",
     "output_type": "stream",
     "text": [
      " ...done. (2 seconds, 0 min)\n"
     ]
    }
   ],
   "source": [
    "from neuromaps.datasets import fetch_annotation\n",
    "from netneurotools import datasets as nntdata\n",
    "from neuromaps.parcellate import Parcellater\n",
    "import pandas as pd\n",
    "import numpy as np\n",
    "\n",
    "annotation = fetch_annotation(source='aghourian2017', desc='feobv', space='MNI152', den='1mm',return_single=True)\n",
    "lausanne = nntdata.fetch_cammoun2012(version='MNI152NLin2009aSym')\n",
    "parcel = Parcellater(lausanne['scale033'], 'mni152')\n",
    "annotation_parc = parcel.fit_transform(annotation, 'mni152')\n",
    "\n",
    "temp = pd.DataFrame(data= np.transpose(annotation_parc), columns=['receptor'])\n",
    "temp.to_csv('/Users/jasondsc/Desktop/Alex_fingerprinting/neuromaps/map_aghourian2017.csv')\n",
    "\n",
    "annotation = fetch_annotation(source='alarkurtti2015', desc='raclopride', space='MNI152', den='3mm',return_single=True)\n",
    "lausanne = nntdata.fetch_cammoun2012(version='MNI152NLin2009aSym')\n",
    "parcel = Parcellater(lausanne['scale033'], 'mni152')\n",
    "annotation_parc = parcel.fit_transform(annotation, 'mni152')\n",
    "\n",
    "temp = pd.DataFrame(data= np.transpose(annotation_parc), columns=['receptor'])\n",
    "temp.to_csv('/Users/jasondsc/Desktop/Alex_fingerprinting/neuromaps/map_alarkurtti2015.csv')\n",
    "\n",
    "annotation = fetch_annotation(source='bedard2019', desc='feobv', space='MNI152', den='1mm',return_single=True)\n",
    "lausanne = nntdata.fetch_cammoun2012(version='MNI152NLin2009aSym')\n",
    "parcel = Parcellater(lausanne['scale033'], 'mni152')\n",
    "annotation_parc = parcel.fit_transform(annotation, 'mni152')\n",
    "\n",
    "temp = pd.DataFrame(data= np.transpose(annotation_parc), columns=['receptor'])\n",
    "temp.to_csv('/Users/jasondsc/Desktop/Alex_fingerprinting/neuromaps/map_bedard2019.csv')\n",
    "\n",
    "annotation = fetch_annotation(source='finnema2016', desc='ucbj', space='MNI152', den='1mm',return_single=True)\n",
    "lausanne = nntdata.fetch_cammoun2012(version='MNI152NLin2009aSym')\n",
    "parcel = Parcellater(lausanne['scale033'], 'mni152')\n",
    "annotation_parc = parcel.fit_transform(annotation, 'mni152')\n",
    "\n",
    "temp = pd.DataFrame(data= np.transpose(annotation_parc), columns=['receptor'])\n",
    "temp.to_csv('/Users/jasondsc/Desktop/Alex_fingerprinting/neuromaps/map_finnema2016.csv')\n",
    "\n",
    "\n",
    "annotation = fetch_annotation(source='naganawa2020', desc='lsn3172176', space='MNI152', den='1mm',return_single=True)\n",
    "lausanne = nntdata.fetch_cammoun2012(version='MNI152NLin2009aSym')\n",
    "parcel = Parcellater(lausanne['scale033'], 'mni152')\n",
    "annotation_parc = parcel.fit_transform(annotation, 'mni152')\n",
    "\n",
    "temp = pd.DataFrame(data= np.transpose(annotation_parc), columns=['receptor'])\n",
    "temp.to_csv('/Users/jasondsc/Desktop/Alex_fingerprinting/neuromaps/map_naganawa2020.csv')\n",
    "\n",
    "\n",
    "annotation = fetch_annotation(source='gallezot2017', desc='gsk189254', space='MNI152', den='1mm',return_single=True)\n",
    "lausanne = nntdata.fetch_cammoun2012(version='MNI152NLin2009aSym')\n",
    "parcel = Parcellater(lausanne['scale033'], 'mni152')\n",
    "annotation_parc = parcel.fit_transform(annotation, 'mni152')\n",
    "\n",
    "temp = pd.DataFrame(data= np.transpose(annotation_parc), columns=['receptor'])\n",
    "temp.to_csv('/Users/jasondsc/Desktop/Alex_fingerprinting/neuromaps/map_gallezot2017.csv')"
   ]
  },
  {
   "cell_type": "code",
   "execution_count": 105,
   "metadata": {},
   "outputs": [
    {
     "name": "stdout",
     "output_type": "stream",
     "text": [
      "Downloading data from https://files.osf.io/v1/resources/4mw3a/providers/osfstorage/6130fe40ab8bca0225edc458 ...\n"
     ]
    },
    {
     "name": "stderr",
     "output_type": "stream",
     "text": [
      " ...done. (1 seconds, 0 min)\n"
     ]
    },
    {
     "name": "stdout",
     "output_type": "stream",
     "text": [
      "Downloading data from https://files.osf.io/v1/resources/4mw3a/providers/osfstorage/60c226f918f70b020ba7caac ...\n"
     ]
    },
    {
     "name": "stderr",
     "output_type": "stream",
     "text": [
      " ...done. (2 seconds, 0 min)\n"
     ]
    },
    {
     "name": "stdout",
     "output_type": "stream",
     "text": [
      "Downloading data from https://files.osf.io/v1/resources/4mw3a/providers/osfstorage/60c226ee18f70b020aa7a77e ...\n"
     ]
    },
    {
     "name": "stderr",
     "output_type": "stream",
     "text": [
      " ...done. (1 seconds, 0 min)\n"
     ]
    }
   ],
   "source": [
    "from neuromaps.datasets import fetch_annotation\n",
    "from netneurotools import datasets as nntdata\n",
    "from neuromaps.parcellate import Parcellater\n",
    "import pandas as pd\n",
    "import numpy as np\n",
    "from neuromaps import transforms\n",
    "import neuromaps\n",
    "\n",
    "\n",
    "myelin = fetch_annotation(source='hcps1200', desc='myelinmap', space='fsLR', den='32k',return_single=True)\n",
    "myelin_fsavg = transforms.fslr_to_fsaverage(myelin, '10k')\n",
    "lausanne = nntdata.fetch_cammoun2012(version='fsaverage')\n",
    "lausanne1= neuromaps.images.annot_to_gifti(lausanne['scale033'])\n",
    "parcel = Parcellater(lausanne1, 'fsaverage')\n",
    "annotation_parc = parcel.fit_transform(myelin_fsavg, 'fsaverage')\n",
    "\n",
    "temp = pd.DataFrame(data= np.transpose(annotation_parc), columns=['receptor'])\n",
    "temp.to_csv('/Users/jasondsc/Desktop/Alex_fingerprinting/neuromaps/map_hcps1200.csv')\n",
    "\n",
    "myelin = fetch_annotation(source='hcps1200', desc='thickness', space='fsLR', den='32k',return_single=True)\n",
    "myelin_fsavg = transforms.fslr_to_fsaverage(myelin, '10k')\n",
    "lausanne = nntdata.fetch_cammoun2012(version='fsaverage')\n",
    "lausanne1= neuromaps.images.annot_to_gifti(lausanne['scale033'])\n",
    "parcel = Parcellater(lausanne1, 'fsaverage')\n",
    "annotation_parc = parcel.fit_transform(myelin_fsavg, 'fsaverage')\n",
    "\n",
    "temp = pd.DataFrame(data= np.transpose(annotation_parc), columns=['receptor'])\n",
    "temp.to_csv('/Users/jasondsc/Desktop/Alex_fingerprinting/neuromaps/map_hcps1200_thickness.csv')\n",
    "\n",
    "\n",
    "myelin = fetch_annotation(source='margulies2016', desc='fcgradient01', space='fsLR', den='32k',return_single=True)\n",
    "myelin_fsavg = transforms.fslr_to_fsaverage(myelin, '10k')\n",
    "lausanne = nntdata.fetch_cammoun2012(version='fsaverage')\n",
    "lausanne1= neuromaps.images.annot_to_gifti(lausanne['scale033'])\n",
    "parcel = Parcellater(lausanne1, 'fsaverage')\n",
    "annotation_parc = parcel.fit_transform(myelin_fsavg, 'fsaverage')\n",
    "\n",
    "temp = pd.DataFrame(data= np.transpose(annotation_parc), columns=['receptor'])\n",
    "temp.to_csv('/Users/jasondsc/Desktop/Alex_fingerprinting/neuromaps/map_margulies2016_fcgradient01.csv')\n",
    "\n",
    "myelin = fetch_annotation(source='margulies2016', desc='fcgradient02', space='fsLR', den='32k',return_single=True)\n",
    "myelin_fsavg = transforms.fslr_to_fsaverage(myelin, '10k')\n",
    "lausanne = nntdata.fetch_cammoun2012(version='fsaverage')\n",
    "lausanne1= neuromaps.images.annot_to_gifti(lausanne['scale033'])\n",
    "parcel = Parcellater(lausanne1, 'fsaverage')\n",
    "annotation_parc = parcel.fit_transform(myelin_fsavg, 'fsaverage')\n",
    "\n",
    "temp = pd.DataFrame(data= np.transpose(annotation_parc), columns=['receptor'])\n",
    "temp.to_csv('/Users/jasondsc/Desktop/Alex_fingerprinting/neuromaps/map_margulies2016_fcgradient02.csv')\n"
   ]
  }
 ],
 "metadata": {
  "kernelspec": {
   "display_name": "Python 3",
   "language": "python",
   "name": "python3"
  },
  "language_info": {
   "codemirror_mode": {
    "name": "ipython",
    "version": 3
   },
   "file_extension": ".py",
   "mimetype": "text/x-python",
   "name": "python",
   "nbconvert_exporter": "python",
   "pygments_lexer": "ipython3",
   "version": "3.7.6"
  }
 },
 "nbformat": 4,
 "nbformat_minor": 4
}
